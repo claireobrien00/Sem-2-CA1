{
 "cells": [
  {
   "cell_type": "code",
   "execution_count": 1,
   "id": "cb708724-de28-4b58-b3ba-b129a0924296",
   "metadata": {},
   "outputs": [
    {
     "name": "stderr",
     "output_type": "stream",
     "text": [
      "2024-09-15 16:08:14.266262: I tensorflow/core/platform/cpu_feature_guard.cc:210] This TensorFlow binary is optimized to use available CPU instructions in performance-critical operations.\n",
      "To enable the following instructions: AVX2, in other operations, rebuild TensorFlow with the appropriate compiler flags.\n"
     ]
    }
   ],
   "source": [
    "import tensorflow as tf\n",
    "from tensorflow.keras.preprocessing.image import ImageDataGenerator\n"
   ]
  },
  {
   "cell_type": "code",
   "execution_count": 5,
   "id": "d0b8ff56-48d3-4a8f-ad0f-7f34c586b03d",
   "metadata": {},
   "outputs": [
    {
     "data": {
      "text/plain": [
       "str"
      ]
     },
     "execution_count": 5,
     "metadata": {},
     "output_type": "execute_result"
    }
   ],
   "source": [
    "# Define directories\n",
    "dataset_dir = \"/home/hduser/Semester2-CA1 (ubuntu)/defungi\""
   ]
  },
  {
   "cell_type": "code",
   "execution_count": 15,
   "id": "f26c95e1-b66a-405f-aa39-43691a6da6cc",
   "metadata": {},
   "outputs": [
    {
     "name": "stdout",
     "output_type": "stream",
     "text": [
      "Found 9114 images belonging to 5 classes.\n",
      "{'H1': 0, 'H2': 1, 'H3': 2, 'H5': 3, 'H6': 4}\n"
     ]
    }
   ],
   "source": [
    "\n",
    "datagen = ImageDataGenerator(rescale=1./255)  # rescale and split data for validation\n",
    "\n",
    "# Load the training data\n",
    "train_data = datagen.flow_from_directory(\n",
    "    dataset_dir,              # Path to the main directory\n",
    "    target_size=(500, 500),    # Resize all images to 150x150 pixels\n",
    "    batch_size=32,             # Load in batches of 32 images\n",
    "    class_mode='categorical',  # Use 'categorical' for multi-class classification\n",
    "    subset='training'          # Use the training subset\n",
    ")\n",
    "\n",
    "# Load the validation data\n",
    "# val_data = datagen.flow_from_directory(\n",
    "#     dataset_dir,\n",
    "#     target_size=(150, 150),\n",
    "#     batch_size=32,\n",
    "#     class_mode='categorical',\n",
    "#     subset='test'        # Use the validation subset\n",
    "# )\n",
    "\n",
    "# Print the class indices to ensure the folders are correctly mapped to labels\n",
    "print(train_data.class_indices)  # This will print the class to label mapping"
   ]
  },
  {
   "cell_type": "code",
   "execution_count": 19,
   "id": "83e42557-53cb-40ac-9a08-13d4356ee1ac",
   "metadata": {},
   "outputs": [
    {
     "ename": "AttributeError",
     "evalue": "'DirectoryIterator' object has no attribute 'shape'",
     "output_type": "error",
     "traceback": [
      "\u001b[0;31m---------------------------------------------------------------------------\u001b[0m",
      "\u001b[0;31mAttributeError\u001b[0m                            Traceback (most recent call last)",
      "Cell \u001b[0;32mIn[19], line 1\u001b[0m\n\u001b[0;32m----> 1\u001b[0m train_data\u001b[38;5;241m.\u001b[39mshape\n",
      "\u001b[0;31mAttributeError\u001b[0m: 'DirectoryIterator' object has no attribute 'shape'"
     ]
    }
   ],
   "source": []
  },
  {
   "cell_type": "code",
   "execution_count": null,
   "id": "38b20402-926f-44fb-b47b-800a7955d14c",
   "metadata": {},
   "outputs": [],
   "source": []
  }
 ],
 "metadata": {
  "kernelspec": {
   "display_name": "Python 3 (ipykernel)",
   "language": "python",
   "name": "python3"
  },
  "language_info": {
   "codemirror_mode": {
    "name": "ipython",
    "version": 3
   },
   "file_extension": ".py",
   "mimetype": "text/x-python",
   "name": "python",
   "nbconvert_exporter": "python",
   "pygments_lexer": "ipython3",
   "version": "3.12.4"
  }
 },
 "nbformat": 4,
 "nbformat_minor": 5
}
