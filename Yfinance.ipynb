{
 "cells": [
  {
   "cell_type": "code",
   "execution_count": null,
   "id": "2f364a0f-669e-4449-a5ea-cdb4765d161a",
   "metadata": {},
   "outputs": [],
   "source": [
    "# pip install yfinance --upgrade --no-cache-dir\n",
    "import yfinance as yf\n",
    "\n",
    "apple= yf.Ticker(\"aapl\")\n",
    "\n",
    "# show actions (dividends, splits)\n",
    "apple.actions\n",
    "\n",
    "# show dividends\n",
    "apple.dividends\n",
    "\n",
    "# show splits\n",
    "apple.splits\n",
    "\n",
    "# + other methods etc."
   ]
  },
  {
   "cell_type": "code",
   "execution_count": null,
   "id": "41bb6712-788c-484c-b18a-2ba466077a38",
   "metadata": {},
   "outputs": [],
   "source": []
  }
 ],
 "metadata": {
  "kernelspec": {
   "display_name": "Python 3 (ipykernel)",
   "language": "python",
   "name": "python3"
  },
  "language_info": {
   "codemirror_mode": {
    "name": "ipython",
    "version": 3
   },
   "file_extension": ".py",
   "mimetype": "text/x-python",
   "name": "python",
   "nbconvert_exporter": "python",
   "pygments_lexer": "ipython3",
   "version": "3.12.4"
  }
 },
 "nbformat": 4,
 "nbformat_minor": 5
}
