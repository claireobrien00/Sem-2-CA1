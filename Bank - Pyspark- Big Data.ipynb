{
 "cells": [
  {
   "cell_type": "code",
   "execution_count": 1,
   "id": "4506aaf3-ff44-4593-b575-a60aca217e64",
   "metadata": {},
   "outputs": [
    {
     "name": "stderr",
     "output_type": "stream",
     "text": [
      "2024-09-26 05:43:06.534753: I tensorflow/core/platform/cpu_feature_guard.cc:210] This TensorFlow binary is optimized to use available CPU instructions in performance-critical operations.\n",
      "To enable the following instructions: AVX2, in other operations, rebuild TensorFlow with the appropriate compiler flags.\n"
     ]
    }
   ],
   "source": [
    "import math\n",
    "import numpy as np\n",
    "import pandas as pd\n",
    "from datetime import datetime\n",
    "import time\n",
    "from pyspark.sql.types import *\n",
    "import keras\n",
    "from keras.models import Sequential\n",
    "from keras.layers import Dense\n",
    "import numpy\n",
    "import pandas as pd\n",
    "import sklearn\n",
    "from sklearn.preprocessing import StandardScaler\n",
    "from pyspark.sql.types import *\n",
    "from pyspark.sql import functions \n",
    "from tensorflow.keras import layers\n",
    "import tensorflow as tf"
   ]
  },
  {
   "cell_type": "code",
   "execution_count": 2,
   "id": "0aefebd0-886f-4e84-a095-95a6d0793e3a",
   "metadata": {},
   "outputs": [],
   "source": [
    "customSchema = StructType([StructField(\"age\", FloatType(), True), \n",
    "                          StructField(\"job\", FloatType(), True), \n",
    "                          StructField(\"marital\", FloatType(), True), \n",
    "                          StructField(\"education\", FloatType(), True),\n",
    "                          StructField(\"default\", FloatType(), True),\n",
    "                          StructField(\"balance\", FloatType(), True),\n",
    "                          StructField(\"housing\", FloatType(), True),\n",
    "                          StructField(\"loan\", FloatType(), True),\n",
    "                          StructField(\"contact\", FloatType(), True),\n",
    "                          StructField(\"day_of_week\", FloatType(), True),\n",
    "                          StructField(\"month\", FloatType(), True),\n",
    "                          StructField(\"duration\", FloatType(), True),\n",
    "                          StructField(\"campaign\", FloatType(), True),\n",
    "                          StructField(\"pdays\", FloatType(), True),\n",
    "                          StructField(\"previous\", FloatType(), True),\n",
    "                          StructField(\"poutcome\", FloatType(), True),\n",
    "                          StructField(\"y\", FloatType(), True)])\n",
    "\n",
    "df = spark.read.load('hdfs://localhost:9000/user1/Bank-Pyspark1.csv', format=\"csv\", header=\"true\", sep=',', schema=customSchema)"
   ]
  },
  {
   "cell_type": "code",
   "execution_count": 3,
   "id": "ed6d5ebc-7928-4a68-8571-07d5f33d74b8",
   "metadata": {},
   "outputs": [
    {
     "data": {
      "text/plain": [
       "pyspark.sql.dataframe.DataFrame"
      ]
     },
     "execution_count": 3,
     "metadata": {},
     "output_type": "execute_result"
    }
   ],
   "source": [
    "type(df)"
   ]
  },
  {
   "cell_type": "code",
   "execution_count": 4,
   "id": "4023fb05-aa19-4893-a2dd-422248a11b7a",
   "metadata": {},
   "outputs": [
    {
     "name": "stdout",
     "output_type": "stream",
     "text": [
      "root\n",
      " |-- age: float (nullable = true)\n",
      " |-- job: float (nullable = true)\n",
      " |-- marital: float (nullable = true)\n",
      " |-- education: float (nullable = true)\n",
      " |-- default: float (nullable = true)\n",
      " |-- balance: float (nullable = true)\n",
      " |-- housing: float (nullable = true)\n",
      " |-- loan: float (nullable = true)\n",
      " |-- contact: float (nullable = true)\n",
      " |-- day_of_week: float (nullable = true)\n",
      " |-- month: float (nullable = true)\n",
      " |-- duration: float (nullable = true)\n",
      " |-- campaign: float (nullable = true)\n",
      " |-- pdays: float (nullable = true)\n",
      " |-- previous: float (nullable = true)\n",
      " |-- poutcome: float (nullable = true)\n",
      " |-- y: float (nullable = true)\n",
      "\n"
     ]
    }
   ],
   "source": [
    "df.printSchema()"
   ]
  },
  {
   "cell_type": "code",
   "execution_count": 5,
   "id": "567f4208-f383-454d-bb2c-9f428940f635",
   "metadata": {},
   "outputs": [
    {
     "name": "stderr",
     "output_type": "stream",
     "text": [
      "                                                                                \r"
     ]
    },
    {
     "name": "stdout",
     "output_type": "stream",
     "text": [
      "+----------+----------+-------+----------+-------+-----------+-------+----+-------+-----------+----------+-----------+--------+-----+--------+--------+---+\n",
      "|       age|       job|marital| education|default|    balance|housing|loan|contact|day_of_week|     month|   duration|campaign|pdays|previous|poutcome|  y|\n",
      "+----------+----------+-------+----------+-------+-----------+-------+----+-------+-----------+----------+-----------+--------+-----+--------+--------+---+\n",
      "| 0.5194805|0.36363637|    0.5| 0.6666667|    0.0| 0.09225936|    1.0| 0.0|    1.0| 0.13333334|0.72727275|0.053070355|     0.0|  0.0|     0.0|     1.0|0.0|\n",
      "|0.33766234| 0.8181818|    1.0|0.33333334|    0.0| 0.07306666|    1.0| 0.0|    1.0| 0.13333334|0.72727275|0.030703537|     0.0|  0.0|     0.0|     1.0|0.0|\n",
      "|0.19480519|0.18181819|    0.5|0.33333334|    0.0| 0.07282153|    1.0| 1.0|    1.0| 0.13333334|0.72727275|0.015453436|     0.0|  0.0|     0.0|     1.0|0.0|\n",
      "|0.37662336|0.09090909|    0.5|       1.0|    0.0| 0.08647613|    1.0| 0.0|    1.0| 0.13333334|0.72727275|0.018706791|     0.0|  0.0|     0.0|     1.0|0.0|\n",
      "|0.19480519|       1.0|    1.0|       1.0|    0.0|0.072812445|    0.0| 0.0|    1.0| 0.13333334|0.72727275| 0.04026027|     0.0|  0.0|     0.0|     1.0|0.0|\n",
      "|0.22077923|0.36363637|    0.5| 0.6666667|    0.0| 0.07490059|    1.0| 0.0|    1.0| 0.13333334|0.72727275|0.028263522|     0.0|  0.0|     0.0|     1.0|0.0|\n",
      "|0.12987013|0.36363637|    1.0| 0.6666667|    0.0| 0.07686162|    1.0| 1.0|    1.0| 0.13333334|0.72727275|0.044123627|     0.0|  0.0|     0.0|     1.0|0.0|\n",
      "| 0.3116883|0.18181819|    0.0| 0.6666667|    1.0| 0.07282153|    1.0| 0.0|    1.0| 0.13333334|0.72727275|0.077267185|     0.0|  0.0|     0.0|     1.0|0.0|\n",
      "| 0.5194805|0.45454547|    0.5|       0.0|    0.0|0.073901914|    1.0| 0.0|    1.0| 0.13333334|0.72727275|0.010166734|     0.0|  0.0|     0.0|     1.0|0.0|\n",
      "|0.32467532| 0.8181818|    1.0|0.33333334|    0.0| 0.07818713|    1.0| 0.0|    1.0| 0.13333334|0.72727275|0.011183408|     0.0|  0.0|     0.0|     1.0|0.0|\n",
      "| 0.2987013|       0.0|    0.0|0.33333334|    0.0|0.075254664|    1.0| 0.0|    1.0| 0.13333334|0.72727275|  0.0451403|     0.0|  0.0|     0.0|     1.0|0.0|\n",
      "|0.14285715|       0.0|    1.0|0.33333334|    0.0|0.076344125|    1.0| 0.0|    1.0| 0.13333334|0.72727275|0.027856853|     0.0|  0.0|     0.0|     1.0|0.0|\n",
      "|0.45454547| 0.8181818|    0.5|0.33333334|    0.0| 0.07285784|    1.0| 0.0|    1.0| 0.13333334|0.72727275|0.105124034|     0.0|  0.0|     0.0|     1.0|0.0|\n",
      "| 0.5194805| 0.8181818|    0.5|       1.0|    0.0| 0.07344797|    1.0| 0.0|    1.0| 0.13333334|0.72727275|0.014436763|     0.0|  0.0|     0.0|     1.0|0.0|\n",
      "| 0.5064935| 0.6363636|    0.5|0.33333334|    0.0|0.074274145|    1.0| 0.0|    1.0| 0.13333334|0.72727275|0.035380237|     0.0|  0.0|     0.0|     1.0|0.0|\n",
      "|0.42857143|0.45454547|    0.5|       0.0|    0.0|0.074882425|    1.0| 0.0|    1.0| 0.13333334|0.72727275| 0.07177714|     0.0|  0.0|     0.0|     1.0|0.0|\n",
      "|0.35064936|       0.0|    1.0|       1.0|    0.0|0.072921395|    1.0| 0.0|    1.0| 0.13333334|0.72727275|  0.0199268|     0.0|  0.0|     0.0|     1.0|0.0|\n",
      "| 0.5064935|0.09090909|    0.5|       0.0|    0.0| 0.07327547|    1.0| 0.0|    1.0| 0.13333334|0.72727275|0.007726718|     0.0|  0.0|     0.0|     1.0|0.0|\n",
      "|0.54545456|0.45454547|    0.5|       0.0|    0.0|0.073348105|    1.0| 0.0|    1.0| 0.13333334|0.72727275|  0.0445303|     0.0|  0.0|     0.0|     1.0|0.0|\n",
      "|0.19480519| 0.6363636|    0.5|0.33333334|    0.0| 0.07280337|    1.0| 0.0|    1.0| 0.13333334|0.72727275|0.010980073|     0.0|  0.0|     0.0|     1.0|0.0|\n",
      "+----------+----------+-------+----------+-------+-----------+-------+----+-------+-----------+----------+-----------+--------+-----+--------+--------+---+\n",
      "only showing top 20 rows\n",
      "\n"
     ]
    }
   ],
   "source": [
    "df.show(20)"
   ]
  },
  {
   "cell_type": "code",
   "execution_count": null,
   "id": "960ee51e-8c3b-48b6-bfd0-6c7d1bb256bd",
   "metadata": {},
   "outputs": [],
   "source": [
    "# create model\n",
    "model = Sequential()\n",
    "\n",
    "model.add(Dense(500, activation='relu')) # 500 neurons\n",
    "model.add(Dense(1, activation='sigmoid')) # 1 output neuron"
   ]
  },
  {
   "cell_type": "code",
   "execution_count": null,
   "id": "ced50050-672e-42da-8d1a-b3c38df40c04",
   "metadata": {},
   "outputs": [],
   "source": [
    "# Compile model\n",
    "X_columns = ['age', 'job', 'marital', 'education', 'default', 'balance', 'housing', 'loan', 'contact', 'day_of_week', 'month', 'duration', 'campaign', 'pdays', 'previous', 'poutcome']\n",
    "Y_column = 'y'  # Replace with the actual label column name\n",
    "\n",
    "# Extract X and Y\n",
    "X_spark = df.select(X_columns)\n",
    "Y_spark = df.select(Y_column)\n",
    "\n",
    "# # Convert to NumPy arrays\n",
    "X = np.array(X_spark.collect())  # Collecting to local NumPy array\n",
    "Y = np.array(Y_spark.collect()).flatten()  # Flatten Y since it's a single column\n",
    "X = np.array(X, dtype=np.float32)\n",
    "Y = np.array(Y, dtype=np.float32) \n",
    "\n",
    "model.compile(loss='binary_crossentropy', optimizer='adam', metrics=['accuracy'])\n",
    "\n",
    "# # Fit the model\n",
    "model.fit(X, Y, epochs=150, batch_size=10,verbose =2)# 150 epoch, 10 batch size, verbose = 2"
   ]
  },
  {
   "cell_type": "code",
   "execution_count": null,
   "id": "36ca4f58",
   "metadata": {},
   "outputs": [],
   "source": [
    "actual = Y\n",
    "predicted = rounded\n",
    "\n",
    "confusion_matrix = metrics.confusion_matrix(actual, predicted)\n",
    "\n",
    "cm_display = metrics.ConfusionMatrixDisplay(confusion_matrix = confusion_matrix, display_labels = [False, True])\n",
    "\n",
    "cm_display.plot()\n",
    "plt.show() "
   ]
  },
  {
   "cell_type": "code",
   "execution_count": null,
   "id": "69d785ba",
   "metadata": {},
   "outputs": [],
   "source": [
    "# summarize the first 5 cases\n",
    "for i in range(5):\n",
    "\tprint(str(rounded[i]) + '=>(expected '+ str(Y[i]) +')')"
   ]
  }
 ],
 "metadata": {
  "kernelspec": {
   "display_name": "Python 3 (ipykernel)",
   "language": "python",
   "name": "python3"
  },
  "language_info": {
   "codemirror_mode": {
    "name": "ipython",
    "version": 3
   },
   "file_extension": ".py",
   "mimetype": "text/x-python",
   "name": "python",
   "nbconvert_exporter": "python",
   "pygments_lexer": "ipython3",
   "version": "3.12.4"
  }
 },
 "nbformat": 4,
 "nbformat_minor": 5
}
