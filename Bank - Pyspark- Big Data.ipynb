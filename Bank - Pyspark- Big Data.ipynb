{
 "cells": [
  {
   "cell_type": "code",
   "execution_count": null,
   "id": "4506aaf3-ff44-4593-b575-a60aca217e64",
   "metadata": {},
   "outputs": [],
   "source": [
    "import math\n",
    "import numpy as np\n",
    "import pandas as pd\n",
    "from datetime import datetime\n",
    "import time\n",
    "from pyspark.sql.types import *\n",
    "import keras\n",
    "from keras.models import Sequential\n",
    "from keras.layers import Dense\n",
    "import numpy\n",
    "import pandas as pd\n",
    "import sklearn\n",
    "from sklearn.preprocessing import StandardScaler\n",
    "from pyspark.sql.types import *\n",
    "from pyspark.sql import functions \n",
    "from tensorflow.keras import layers\n",
    "import tensorflow as tf"
   ]
  },
  {
   "cell_type": "code",
   "execution_count": null,
   "id": "0aefebd0-886f-4e84-a095-95a6d0793e3a",
   "metadata": {},
   "outputs": [],
   "source": [
    "customSchema = StructType([StructField(\"age\", FloatType(), True), \n",
    "                          StructField(\"job\", FloatType(), True), \n",
    "                          StructField(\"marital\", FloatType(), True), \n",
    "                          StructField(\"education\", FloatType(), True),\n",
    "                          StructField(\"default\", FloatType(), True),\n",
    "                          StructField(\"balance\", FloatType(), True),\n",
    "                          StructField(\"housing\", FloatType(), True),\n",
    "                          StructField(\"loan\", FloatType(), True),\n",
    "                          StructField(\"contact\", FloatType(), True),\n",
    "                          StructField(\"day_of_week\", FloatType(), True),\n",
    "                          StructField(\"month\", FloatType(), True),\n",
    "                          StructField(\"duration\", FloatType(), True),\n",
    "                          StructField(\"campaign\", FloatType(), True),\n",
    "                          StructField(\"pdays\", FloatType(), True),\n",
    "                          StructField(\"previous\", FloatType(), True),\n",
    "                          StructField(\"poutcome\", FloatType(), True),\n",
    "                          StructField(\"y\", FloatType(), True)])\n",
    "\n",
    "df = spark.read.load('hdfs://localhost:9000/user1/Bank-Pyspark1.csv', format=\"csv\", header=\"true\", sep=',', schema=customSchema)"
   ]
  },
  {
   "cell_type": "code",
   "execution_count": null,
   "id": "ed6d5ebc-7928-4a68-8571-07d5f33d74b8",
   "metadata": {},
   "outputs": [],
   "source": [
    "type(df)"
   ]
  },
  {
   "cell_type": "code",
   "execution_count": null,
   "id": "4023fb05-aa19-4893-a2dd-422248a11b7a",
   "metadata": {},
   "outputs": [],
   "source": [
    "df.printSchema()"
   ]
  },
  {
   "cell_type": "code",
   "execution_count": null,
   "id": "567f4208-f383-454d-bb2c-9f428940f635",
   "metadata": {},
   "outputs": [],
   "source": [
    "df.show(20)"
   ]
  },
  {
   "cell_type": "code",
   "execution_count": null,
   "id": "960ee51e-8c3b-48b6-bfd0-6c7d1bb256bd",
   "metadata": {},
   "outputs": [],
   "source": [
    "# create model\n",
    "model = Sequential()\n",
    "\n",
    "model.add(Dense(500, activation='sigmoid')) # 500 neurons\n",
    "model.add(Dense(1, activation='sigmoid')) # 1 output neuron"
   ]
  },
  {
   "cell_type": "code",
   "execution_count": null,
   "id": "ced50050-672e-42da-8d1a-b3c38df40c04",
   "metadata": {},
   "outputs": [],
   "source": [
    "# Compile model\n",
    "X_columns = ['age', 'job', 'marital', 'education', 'default', 'balance', 'housing', 'loan', 'contact', 'day_of_week', 'month', 'duration', 'campaign', 'pdays', 'previous', 'poutcome']\n",
    "Y_column = 'y'  # Replace with the actual label column name\n",
    "\n",
    "# Extract X and Y\n",
    "X_spark = df.select(X_columns)\n",
    "Y_spark = df.select(Y_column)\n",
    "\n",
    "# # Convert to NumPy arrays\n",
    "X = np.array(X_spark.collect())  # Collecting to local NumPy array\n",
    "Y = np.array(Y_spark.collect()).flatten()  # Flatten Y since it's a single column\n",
    "X = np.array(X, dtype=np.float32)\n",
    "Y = np.array(Y, dtype=np.float32) \n",
    "\n",
    "\n",
    "optimizer = Adam(clipvalue=0.5, learning_rate=1e-5)\n",
    "model.compile(loss='binary_crossentropy', optimizer=optimizer, metrics=['accuracy'])\n",
    "\n",
    "# # Fit the model\n",
    "model.fit(X, Y, epochs=10, batch_size=50)# 150 epoch, 10 batch size, verbose = 2"
   ]
  },
  {
   "cell_type": "code",
   "execution_count": null,
   "id": "89cced4b-7002-442b-a4ab-3e2d90b53cdd",
   "metadata": {},
   "outputs": [],
   "source": [
    "# calculate predictions\n",
    "predictions = model.predict(X)    # predicting Y only using X\n",
    "# Round predictions\n",
    "#rounded = [int(numpy.round(x, 0)) for x in predictions]\n",
    "rounded = [round(x[0]) for x in predictions]\n",
    "scores = model.evaluate(X, Y)\n",
    "\n",
    "actual = Y\n",
    "predicted = rounded\n",
    "\n",
    "confusion_matrix = metrics.confusion_matrix(actual, predicted)\n",
    "\n",
    "cm_display = metrics.ConfusionMatrixDisplay(confusion_matrix = confusion_matrix, display_labels = [False, True])\n",
    "\n",
    "cm_display.plot()\n",
    "plt.show() "
   ]
  }
 ],
 "metadata": {
  "kernelspec": {
   "display_name": "Python 3 (ipykernel)",
   "language": "python",
   "name": "python3"
  },
  "language_info": {
   "codemirror_mode": {
    "name": "ipython",
    "version": 3
   },
   "file_extension": ".py",
   "mimetype": "text/x-python",
   "name": "python",
   "nbconvert_exporter": "python",
   "pygments_lexer": "ipython3",
   "version": "3.12.4"
  }
 },
 "nbformat": 4,
 "nbformat_minor": 5
}
